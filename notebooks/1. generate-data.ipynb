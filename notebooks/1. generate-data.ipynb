{
 "cells": [
  {
   "cell_type": "code",
   "execution_count": 2,
   "metadata": {},
   "outputs": [],
   "source": [
    "import sys\n",
    "sys.path.append('..')"
   ]
  },
  {
   "cell_type": "code",
   "execution_count": 10,
   "metadata": {},
   "outputs": [],
   "source": [
    "%load_ext autoreload\n",
    "%autoreload 2"
   ]
  },
  {
   "cell_type": "markdown",
   "metadata": {},
   "source": [
    "# Generate Sythetic Data"
   ]
  },
  {
   "cell_type": "code",
   "execution_count": 13,
   "metadata": {},
   "outputs": [
    {
     "data": {
      "text/html": [
       "<div>\n",
       "<style scoped>\n",
       "    .dataframe tbody tr th:only-of-type {\n",
       "        vertical-align: middle;\n",
       "    }\n",
       "\n",
       "    .dataframe tbody tr th {\n",
       "        vertical-align: top;\n",
       "    }\n",
       "\n",
       "    .dataframe thead th {\n",
       "        text-align: right;\n",
       "    }\n",
       "</style>\n",
       "<table border=\"1\" class=\"dataframe\">\n",
       "  <thead>\n",
       "    <tr style=\"text-align: right;\">\n",
       "      <th></th>\n",
       "      <th>X0</th>\n",
       "      <th>X1</th>\n",
       "      <th>price</th>\n",
       "      <th>optimal_price</th>\n",
       "      <th>Y</th>\n",
       "    </tr>\n",
       "  </thead>\n",
       "  <tbody>\n",
       "    <tr>\n",
       "      <th>0</th>\n",
       "      <td>4.349181</td>\n",
       "      <td>6.046062</td>\n",
       "      <td>3.628647</td>\n",
       "      <td>2.846879</td>\n",
       "      <td>0</td>\n",
       "    </tr>\n",
       "    <tr>\n",
       "      <th>1</th>\n",
       "      <td>5.276369</td>\n",
       "      <td>5.213006</td>\n",
       "      <td>4.383376</td>\n",
       "      <td>4.172205</td>\n",
       "      <td>0</td>\n",
       "    </tr>\n",
       "    <tr>\n",
       "      <th>2</th>\n",
       "      <td>7.538592</td>\n",
       "      <td>6.492836</td>\n",
       "      <td>5.508937</td>\n",
       "      <td>7.882586</td>\n",
       "      <td>1</td>\n",
       "    </tr>\n",
       "    <tr>\n",
       "      <th>3</th>\n",
       "      <td>5.985619</td>\n",
       "      <td>5.342646</td>\n",
       "      <td>6.083502</td>\n",
       "      <td>4.662296</td>\n",
       "      <td>0</td>\n",
       "    </tr>\n",
       "    <tr>\n",
       "      <th>4</th>\n",
       "      <td>2.828041</td>\n",
       "      <td>5.284333</td>\n",
       "      <td>5.632474</td>\n",
       "      <td>0.857630</td>\n",
       "      <td>0</td>\n",
       "    </tr>\n",
       "  </tbody>\n",
       "</table>\n",
       "</div>"
      ],
      "text/plain": [
       "         X0        X1     price  optimal_price  Y\n",
       "0  4.349181  6.046062  3.628647       2.846879  0\n",
       "1  5.276369  5.213006  4.383376       4.172205  0\n",
       "2  7.538592  6.492836  5.508937       7.882586  1\n",
       "3  5.985619  5.342646  6.083502       4.662296  0\n",
       "4  2.828041  5.284333  5.632474       0.857630  0"
      ]
     },
     "execution_count": 13,
     "metadata": {},
     "output_type": "execute_result"
    }
   ],
   "source": [
    "from src.DataGenerator import DataGenerator\n",
    "\n",
    "# init generator\n",
    "gen = DataGenerator()\n",
    "\n",
    "# generate data set 1\n",
    "# set seed for reproducibility\n",
    "data = gen.generate_data(1, n_samples=100, seed=734)\n",
    "data.head()"
   ]
  },
  {
   "cell_type": "code",
   "execution_count": null,
   "metadata": {},
   "outputs": [],
   "source": []
  }
 ],
 "metadata": {
  "kernelspec": {
   "display_name": "Python 3.12.2 ('causal_env')",
   "language": "python",
   "name": "python3"
  },
  "language_info": {
   "codemirror_mode": {
    "name": "ipython",
    "version": 3
   },
   "file_extension": ".py",
   "mimetype": "text/x-python",
   "name": "python",
   "nbconvert_exporter": "python",
   "pygments_lexer": "ipython3",
   "version": "3.12.2"
  },
  "orig_nbformat": 4,
  "vscode": {
   "interpreter": {
    "hash": "c68351952c6218b5c08d8443d08a869d9396151cf46cfdad96ddf4792bbbb357"
   }
  }
 },
 "nbformat": 4,
 "nbformat_minor": 2
}
